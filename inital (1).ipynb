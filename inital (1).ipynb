{
  "nbformat": 4,
  "nbformat_minor": 0,
  "metadata": {
    "colab": {
      "provenance": []
    },
    "kernelspec": {
      "name": "python3",
      "display_name": "Python 3"
    },
    "language_info": {
      "name": "python"
    }
  },
  "cells": [
    {
      "cell_type": "code",
      "execution_count": 10,
      "metadata": {
        "id": "FJ8O4GAWH3Aa"
      },
      "outputs": [],
      "source": [
        "import pandas as pd\n",
        "import seaborn as sns\n",
        "from geopy.geocoders import Nominatim"
      ]
    },
    {
      "cell_type": "code",
      "source": [
        "df = pd.read_csv(\"SHR65_23.csv\")"
      ],
      "metadata": {
        "id": "wKHsPxi_ISqW"
      },
      "execution_count": 3,
      "outputs": []
    },
    {
      "cell_type": "code",
      "source": [
        "print(df.columns)"
      ],
      "metadata": {
        "colab": {
          "base_uri": "https://localhost:8080/"
        },
        "id": "CrdoNM0kPQG6",
        "outputId": "4988ebdb-6a89-46af-cdf6-61d90286848c"
      },
      "execution_count": 4,
      "outputs": [
        {
          "output_type": "stream",
          "name": "stdout",
          "text": [
            "Index(['ID', 'CNTYFIPS', 'Ori', 'State', 'Agency', 'Agentype', 'Source',\n",
            "       'Solved', 'Year', 'Month', 'Incident', 'ActionType', 'Homicide',\n",
            "       'Situation', 'VicAge', 'VicSex', 'VicRace', 'VicEthnic', 'OffAge',\n",
            "       'OffSex', 'OffRace', 'OffEthnic', 'Weapon', 'Relationship',\n",
            "       'Circumstance', 'Subcircum', 'VicCount', 'OffCount', 'FileDate', 'MSA'],\n",
            "      dtype='object')\n"
          ]
        }
      ]
    },
    {
      "cell_type": "code",
      "source": [
        "#subset for columns that are important\n",
        "new_df = df[['State', \"Agency\", \"Year\", \"Month\", \"Homicide\", \"VicAge\", \"VicSex\", \"VicRace\", \"VicEthnic\", \"OffAge\", \"OffSex\", \"OffRace\", \"OffEthnic\", \"Weapon\", \"VicCount\", \"OffCount\"  ]]\n",
        "new_df"
      ],
      "metadata": {
        "colab": {
          "base_uri": "https://localhost:8080/",
          "height": 964
        },
        "id": "ZxBdKWi8JqfL",
        "outputId": "229bcf6a-315c-44db-9aa7-1b1c092afa9a"
      },
      "execution_count": 6,
      "outputs": [
        {
          "output_type": "execute_result",
          "data": {
            "text/plain": [
              "          State             Agency Source Solved  Year   Month  \\\n",
              "0        Alaska          Anchorage    FBI    Yes  1976   March   \n",
              "1        Alaska          Anchorage    FBI    Yes  1976   April   \n",
              "2        Alaska          Anchorage    FBI    Yes  1976    June   \n",
              "3        Alaska          Anchorage    FBI    Yes  1976    June   \n",
              "4        Alaska          Anchorage    FBI    Yes  1976    July   \n",
              "...         ...                ...    ...    ...   ...     ...   \n",
              "894631  Wyoming  Wind River Agency    FBI     No  2018  August   \n",
              "894632  Wyoming  Wind River Agency    FBI    Yes  2019  August   \n",
              "894633  Wyoming  Wind River Agency    FBI    Yes  2023   March   \n",
              "894634  Wyoming  Wind River Agency    FBI    Yes  2023   March   \n",
              "894635  Wyoming  Wind River Agency    FBI    Yes  2023  August   \n",
              "\n",
              "                                     Homicide  VicAge  VicSex  \\\n",
              "0       Murder and non-negligent manslaughter      48    Male   \n",
              "1       Murder and non-negligent manslaughter      33  Female   \n",
              "2       Murder and non-negligent manslaughter      38    Male   \n",
              "3       Murder and non-negligent manslaughter      41    Male   \n",
              "4       Murder and non-negligent manslaughter      33    Male   \n",
              "...                                       ...     ...     ...   \n",
              "894631  Murder and non-negligent manslaughter      29    Male   \n",
              "894632  Murder and non-negligent manslaughter      29    Male   \n",
              "894633  Murder and non-negligent manslaughter      44    Male   \n",
              "894634  Murder and non-negligent manslaughter      37    Male   \n",
              "894635  Murder and non-negligent manslaughter      42    Male   \n",
              "\n",
              "                                  VicRace                VicEthnic  OffAge  \\\n",
              "0                                 Unknown  Unknown or not reported      68   \n",
              "1                                   White  Unknown or not reported      44   \n",
              "2                                   White  Unknown or not reported      27   \n",
              "3                                   White  Unknown or not reported      34   \n",
              "4       American Indian or Alaskan Native  Unknown or not reported      37   \n",
              "...                                   ...                      ...     ...   \n",
              "894631  American Indian or Alaskan Native   Not of Hispanic origin     999   \n",
              "894632  American Indian or Alaskan Native   Not of Hispanic origin      30   \n",
              "894633  American Indian or Alaskan Native   Not of Hispanic origin      33   \n",
              "894634  American Indian or Alaskan Native   Not of Hispanic origin      29   \n",
              "894635  American Indian or Alaskan Native   Not of Hispanic origin      59   \n",
              "\n",
              "         OffSex                            OffRace                OffEthnic  \\\n",
              "0          Male                              Black  Unknown or not reported   \n",
              "1          Male                              White  Unknown or not reported   \n",
              "2          Male                              Black  Unknown or not reported   \n",
              "3          Male                              White  Unknown or not reported   \n",
              "4        Female  American Indian or Alaskan Native  Unknown or not reported   \n",
              "...         ...                                ...                      ...   \n",
              "894631  Unknown                            Unknown  Unknown or not reported   \n",
              "894632     Male  American Indian or Alaskan Native   Not of Hispanic origin   \n",
              "894633     Male  American Indian or Alaskan Native   Not of Hispanic origin   \n",
              "894634     Male  American Indian or Alaskan Native   Not of Hispanic origin   \n",
              "894635     Male  American Indian or Alaskan Native   Not of Hispanic origin   \n",
              "\n",
              "                                 Weapon  VicCount  OffCount  \n",
              "0       Handgun - pistol, revolver, etc         0         0  \n",
              "1       Handgun - pistol, revolver, etc         0         0  \n",
              "2       Handgun - pistol, revolver, etc         0         0  \n",
              "3       Handgun - pistol, revolver, etc         0         0  \n",
              "4           Knife or cutting instrument         0         0  \n",
              "...                                 ...       ...       ...  \n",
              "894631                          Shotgun         0         0  \n",
              "894632         Firearm, type not stated         0         0  \n",
              "894633         Firearm, type not stated         0         0  \n",
              "894634            Other or type unknown         0         0  \n",
              "894635  Handgun - pistol, revolver, etc         0         0  \n",
              "\n",
              "[894636 rows x 18 columns]"
            ],
            "text/html": [
              "\n",
              "  <div id=\"df-b926d41a-a170-4c60-8951-46bf650da197\" class=\"colab-df-container\">\n",
              "    <div>\n",
              "<style scoped>\n",
              "    .dataframe tbody tr th:only-of-type {\n",
              "        vertical-align: middle;\n",
              "    }\n",
              "\n",
              "    .dataframe tbody tr th {\n",
              "        vertical-align: top;\n",
              "    }\n",
              "\n",
              "    .dataframe thead th {\n",
              "        text-align: right;\n",
              "    }\n",
              "</style>\n",
              "<table border=\"1\" class=\"dataframe\">\n",
              "  <thead>\n",
              "    <tr style=\"text-align: right;\">\n",
              "      <th></th>\n",
              "      <th>State</th>\n",
              "      <th>Agency</th>\n",
              "      <th>Source</th>\n",
              "      <th>Solved</th>\n",
              "      <th>Year</th>\n",
              "      <th>Month</th>\n",
              "      <th>Homicide</th>\n",
              "      <th>VicAge</th>\n",
              "      <th>VicSex</th>\n",
              "      <th>VicRace</th>\n",
              "      <th>VicEthnic</th>\n",
              "      <th>OffAge</th>\n",
              "      <th>OffSex</th>\n",
              "      <th>OffRace</th>\n",
              "      <th>OffEthnic</th>\n",
              "      <th>Weapon</th>\n",
              "      <th>VicCount</th>\n",
              "      <th>OffCount</th>\n",
              "    </tr>\n",
              "  </thead>\n",
              "  <tbody>\n",
              "    <tr>\n",
              "      <th>0</th>\n",
              "      <td>Alaska</td>\n",
              "      <td>Anchorage</td>\n",
              "      <td>FBI</td>\n",
              "      <td>Yes</td>\n",
              "      <td>1976</td>\n",
              "      <td>March</td>\n",
              "      <td>Murder and non-negligent manslaughter</td>\n",
              "      <td>48</td>\n",
              "      <td>Male</td>\n",
              "      <td>Unknown</td>\n",
              "      <td>Unknown or not reported</td>\n",
              "      <td>68</td>\n",
              "      <td>Male</td>\n",
              "      <td>Black</td>\n",
              "      <td>Unknown or not reported</td>\n",
              "      <td>Handgun - pistol, revolver, etc</td>\n",
              "      <td>0</td>\n",
              "      <td>0</td>\n",
              "    </tr>\n",
              "    <tr>\n",
              "      <th>1</th>\n",
              "      <td>Alaska</td>\n",
              "      <td>Anchorage</td>\n",
              "      <td>FBI</td>\n",
              "      <td>Yes</td>\n",
              "      <td>1976</td>\n",
              "      <td>April</td>\n",
              "      <td>Murder and non-negligent manslaughter</td>\n",
              "      <td>33</td>\n",
              "      <td>Female</td>\n",
              "      <td>White</td>\n",
              "      <td>Unknown or not reported</td>\n",
              "      <td>44</td>\n",
              "      <td>Male</td>\n",
              "      <td>White</td>\n",
              "      <td>Unknown or not reported</td>\n",
              "      <td>Handgun - pistol, revolver, etc</td>\n",
              "      <td>0</td>\n",
              "      <td>0</td>\n",
              "    </tr>\n",
              "    <tr>\n",
              "      <th>2</th>\n",
              "      <td>Alaska</td>\n",
              "      <td>Anchorage</td>\n",
              "      <td>FBI</td>\n",
              "      <td>Yes</td>\n",
              "      <td>1976</td>\n",
              "      <td>June</td>\n",
              "      <td>Murder and non-negligent manslaughter</td>\n",
              "      <td>38</td>\n",
              "      <td>Male</td>\n",
              "      <td>White</td>\n",
              "      <td>Unknown or not reported</td>\n",
              "      <td>27</td>\n",
              "      <td>Male</td>\n",
              "      <td>Black</td>\n",
              "      <td>Unknown or not reported</td>\n",
              "      <td>Handgun - pistol, revolver, etc</td>\n",
              "      <td>0</td>\n",
              "      <td>0</td>\n",
              "    </tr>\n",
              "    <tr>\n",
              "      <th>3</th>\n",
              "      <td>Alaska</td>\n",
              "      <td>Anchorage</td>\n",
              "      <td>FBI</td>\n",
              "      <td>Yes</td>\n",
              "      <td>1976</td>\n",
              "      <td>June</td>\n",
              "      <td>Murder and non-negligent manslaughter</td>\n",
              "      <td>41</td>\n",
              "      <td>Male</td>\n",
              "      <td>White</td>\n",
              "      <td>Unknown or not reported</td>\n",
              "      <td>34</td>\n",
              "      <td>Male</td>\n",
              "      <td>White</td>\n",
              "      <td>Unknown or not reported</td>\n",
              "      <td>Handgun - pistol, revolver, etc</td>\n",
              "      <td>0</td>\n",
              "      <td>0</td>\n",
              "    </tr>\n",
              "    <tr>\n",
              "      <th>4</th>\n",
              "      <td>Alaska</td>\n",
              "      <td>Anchorage</td>\n",
              "      <td>FBI</td>\n",
              "      <td>Yes</td>\n",
              "      <td>1976</td>\n",
              "      <td>July</td>\n",
              "      <td>Murder and non-negligent manslaughter</td>\n",
              "      <td>33</td>\n",
              "      <td>Male</td>\n",
              "      <td>American Indian or Alaskan Native</td>\n",
              "      <td>Unknown or not reported</td>\n",
              "      <td>37</td>\n",
              "      <td>Female</td>\n",
              "      <td>American Indian or Alaskan Native</td>\n",
              "      <td>Unknown or not reported</td>\n",
              "      <td>Knife or cutting instrument</td>\n",
              "      <td>0</td>\n",
              "      <td>0</td>\n",
              "    </tr>\n",
              "    <tr>\n",
              "      <th>...</th>\n",
              "      <td>...</td>\n",
              "      <td>...</td>\n",
              "      <td>...</td>\n",
              "      <td>...</td>\n",
              "      <td>...</td>\n",
              "      <td>...</td>\n",
              "      <td>...</td>\n",
              "      <td>...</td>\n",
              "      <td>...</td>\n",
              "      <td>...</td>\n",
              "      <td>...</td>\n",
              "      <td>...</td>\n",
              "      <td>...</td>\n",
              "      <td>...</td>\n",
              "      <td>...</td>\n",
              "      <td>...</td>\n",
              "      <td>...</td>\n",
              "      <td>...</td>\n",
              "    </tr>\n",
              "    <tr>\n",
              "      <th>894631</th>\n",
              "      <td>Wyoming</td>\n",
              "      <td>Wind River Agency</td>\n",
              "      <td>FBI</td>\n",
              "      <td>No</td>\n",
              "      <td>2018</td>\n",
              "      <td>August</td>\n",
              "      <td>Murder and non-negligent manslaughter</td>\n",
              "      <td>29</td>\n",
              "      <td>Male</td>\n",
              "      <td>American Indian or Alaskan Native</td>\n",
              "      <td>Not of Hispanic origin</td>\n",
              "      <td>999</td>\n",
              "      <td>Unknown</td>\n",
              "      <td>Unknown</td>\n",
              "      <td>Unknown or not reported</td>\n",
              "      <td>Shotgun</td>\n",
              "      <td>0</td>\n",
              "      <td>0</td>\n",
              "    </tr>\n",
              "    <tr>\n",
              "      <th>894632</th>\n",
              "      <td>Wyoming</td>\n",
              "      <td>Wind River Agency</td>\n",
              "      <td>FBI</td>\n",
              "      <td>Yes</td>\n",
              "      <td>2019</td>\n",
              "      <td>August</td>\n",
              "      <td>Murder and non-negligent manslaughter</td>\n",
              "      <td>29</td>\n",
              "      <td>Male</td>\n",
              "      <td>American Indian or Alaskan Native</td>\n",
              "      <td>Not of Hispanic origin</td>\n",
              "      <td>30</td>\n",
              "      <td>Male</td>\n",
              "      <td>American Indian or Alaskan Native</td>\n",
              "      <td>Not of Hispanic origin</td>\n",
              "      <td>Firearm, type not stated</td>\n",
              "      <td>0</td>\n",
              "      <td>0</td>\n",
              "    </tr>\n",
              "    <tr>\n",
              "      <th>894633</th>\n",
              "      <td>Wyoming</td>\n",
              "      <td>Wind River Agency</td>\n",
              "      <td>FBI</td>\n",
              "      <td>Yes</td>\n",
              "      <td>2023</td>\n",
              "      <td>March</td>\n",
              "      <td>Murder and non-negligent manslaughter</td>\n",
              "      <td>44</td>\n",
              "      <td>Male</td>\n",
              "      <td>American Indian or Alaskan Native</td>\n",
              "      <td>Not of Hispanic origin</td>\n",
              "      <td>33</td>\n",
              "      <td>Male</td>\n",
              "      <td>American Indian or Alaskan Native</td>\n",
              "      <td>Not of Hispanic origin</td>\n",
              "      <td>Firearm, type not stated</td>\n",
              "      <td>0</td>\n",
              "      <td>0</td>\n",
              "    </tr>\n",
              "    <tr>\n",
              "      <th>894634</th>\n",
              "      <td>Wyoming</td>\n",
              "      <td>Wind River Agency</td>\n",
              "      <td>FBI</td>\n",
              "      <td>Yes</td>\n",
              "      <td>2023</td>\n",
              "      <td>March</td>\n",
              "      <td>Murder and non-negligent manslaughter</td>\n",
              "      <td>37</td>\n",
              "      <td>Male</td>\n",
              "      <td>American Indian or Alaskan Native</td>\n",
              "      <td>Not of Hispanic origin</td>\n",
              "      <td>29</td>\n",
              "      <td>Male</td>\n",
              "      <td>American Indian or Alaskan Native</td>\n",
              "      <td>Not of Hispanic origin</td>\n",
              "      <td>Other or type unknown</td>\n",
              "      <td>0</td>\n",
              "      <td>0</td>\n",
              "    </tr>\n",
              "    <tr>\n",
              "      <th>894635</th>\n",
              "      <td>Wyoming</td>\n",
              "      <td>Wind River Agency</td>\n",
              "      <td>FBI</td>\n",
              "      <td>Yes</td>\n",
              "      <td>2023</td>\n",
              "      <td>August</td>\n",
              "      <td>Murder and non-negligent manslaughter</td>\n",
              "      <td>42</td>\n",
              "      <td>Male</td>\n",
              "      <td>American Indian or Alaskan Native</td>\n",
              "      <td>Not of Hispanic origin</td>\n",
              "      <td>59</td>\n",
              "      <td>Male</td>\n",
              "      <td>American Indian or Alaskan Native</td>\n",
              "      <td>Not of Hispanic origin</td>\n",
              "      <td>Handgun - pistol, revolver, etc</td>\n",
              "      <td>0</td>\n",
              "      <td>0</td>\n",
              "    </tr>\n",
              "  </tbody>\n",
              "</table>\n",
              "<p>894636 rows × 18 columns</p>\n",
              "</div>\n",
              "    <div class=\"colab-df-buttons\">\n",
              "\n",
              "  <div class=\"colab-df-container\">\n",
              "    <button class=\"colab-df-convert\" onclick=\"convertToInteractive('df-b926d41a-a170-4c60-8951-46bf650da197')\"\n",
              "            title=\"Convert this dataframe to an interactive table.\"\n",
              "            style=\"display:none;\">\n",
              "\n",
              "  <svg xmlns=\"http://www.w3.org/2000/svg\" height=\"24px\" viewBox=\"0 -960 960 960\">\n",
              "    <path d=\"M120-120v-720h720v720H120Zm60-500h600v-160H180v160Zm220 220h160v-160H400v160Zm0 220h160v-160H400v160ZM180-400h160v-160H180v160Zm440 0h160v-160H620v160ZM180-180h160v-160H180v160Zm440 0h160v-160H620v160Z\"/>\n",
              "  </svg>\n",
              "    </button>\n",
              "\n",
              "  <style>\n",
              "    .colab-df-container {\n",
              "      display:flex;\n",
              "      gap: 12px;\n",
              "    }\n",
              "\n",
              "    .colab-df-convert {\n",
              "      background-color: #E8F0FE;\n",
              "      border: none;\n",
              "      border-radius: 50%;\n",
              "      cursor: pointer;\n",
              "      display: none;\n",
              "      fill: #1967D2;\n",
              "      height: 32px;\n",
              "      padding: 0 0 0 0;\n",
              "      width: 32px;\n",
              "    }\n",
              "\n",
              "    .colab-df-convert:hover {\n",
              "      background-color: #E2EBFA;\n",
              "      box-shadow: 0px 1px 2px rgba(60, 64, 67, 0.3), 0px 1px 3px 1px rgba(60, 64, 67, 0.15);\n",
              "      fill: #174EA6;\n",
              "    }\n",
              "\n",
              "    .colab-df-buttons div {\n",
              "      margin-bottom: 4px;\n",
              "    }\n",
              "\n",
              "    [theme=dark] .colab-df-convert {\n",
              "      background-color: #3B4455;\n",
              "      fill: #D2E3FC;\n",
              "    }\n",
              "\n",
              "    [theme=dark] .colab-df-convert:hover {\n",
              "      background-color: #434B5C;\n",
              "      box-shadow: 0px 1px 3px 1px rgba(0, 0, 0, 0.15);\n",
              "      filter: drop-shadow(0px 1px 2px rgba(0, 0, 0, 0.3));\n",
              "      fill: #FFFFFF;\n",
              "    }\n",
              "  </style>\n",
              "\n",
              "    <script>\n",
              "      const buttonEl =\n",
              "        document.querySelector('#df-b926d41a-a170-4c60-8951-46bf650da197 button.colab-df-convert');\n",
              "      buttonEl.style.display =\n",
              "        google.colab.kernel.accessAllowed ? 'block' : 'none';\n",
              "\n",
              "      async function convertToInteractive(key) {\n",
              "        const element = document.querySelector('#df-b926d41a-a170-4c60-8951-46bf650da197');\n",
              "        const dataTable =\n",
              "          await google.colab.kernel.invokeFunction('convertToInteractive',\n",
              "                                                    [key], {});\n",
              "        if (!dataTable) return;\n",
              "\n",
              "        const docLinkHtml = 'Like what you see? Visit the ' +\n",
              "          '<a target=\"_blank\" href=https://colab.research.google.com/notebooks/data_table.ipynb>data table notebook</a>'\n",
              "          + ' to learn more about interactive tables.';\n",
              "        element.innerHTML = '';\n",
              "        dataTable['output_type'] = 'display_data';\n",
              "        await google.colab.output.renderOutput(dataTable, element);\n",
              "        const docLink = document.createElement('div');\n",
              "        docLink.innerHTML = docLinkHtml;\n",
              "        element.appendChild(docLink);\n",
              "      }\n",
              "    </script>\n",
              "  </div>\n",
              "\n",
              "\n",
              "<div id=\"df-c694d906-6223-4ba3-9d35-7d4faa5b372e\">\n",
              "  <button class=\"colab-df-quickchart\" onclick=\"quickchart('df-c694d906-6223-4ba3-9d35-7d4faa5b372e')\"\n",
              "            title=\"Suggest charts\"\n",
              "            style=\"display:none;\">\n",
              "\n",
              "<svg xmlns=\"http://www.w3.org/2000/svg\" height=\"24px\"viewBox=\"0 0 24 24\"\n",
              "     width=\"24px\">\n",
              "    <g>\n",
              "        <path d=\"M19 3H5c-1.1 0-2 .9-2 2v14c0 1.1.9 2 2 2h14c1.1 0 2-.9 2-2V5c0-1.1-.9-2-2-2zM9 17H7v-7h2v7zm4 0h-2V7h2v10zm4 0h-2v-4h2v4z\"/>\n",
              "    </g>\n",
              "</svg>\n",
              "  </button>\n",
              "\n",
              "<style>\n",
              "  .colab-df-quickchart {\n",
              "      --bg-color: #E8F0FE;\n",
              "      --fill-color: #1967D2;\n",
              "      --hover-bg-color: #E2EBFA;\n",
              "      --hover-fill-color: #174EA6;\n",
              "      --disabled-fill-color: #AAA;\n",
              "      --disabled-bg-color: #DDD;\n",
              "  }\n",
              "\n",
              "  [theme=dark] .colab-df-quickchart {\n",
              "      --bg-color: #3B4455;\n",
              "      --fill-color: #D2E3FC;\n",
              "      --hover-bg-color: #434B5C;\n",
              "      --hover-fill-color: #FFFFFF;\n",
              "      --disabled-bg-color: #3B4455;\n",
              "      --disabled-fill-color: #666;\n",
              "  }\n",
              "\n",
              "  .colab-df-quickchart {\n",
              "    background-color: var(--bg-color);\n",
              "    border: none;\n",
              "    border-radius: 50%;\n",
              "    cursor: pointer;\n",
              "    display: none;\n",
              "    fill: var(--fill-color);\n",
              "    height: 32px;\n",
              "    padding: 0;\n",
              "    width: 32px;\n",
              "  }\n",
              "\n",
              "  .colab-df-quickchart:hover {\n",
              "    background-color: var(--hover-bg-color);\n",
              "    box-shadow: 0 1px 2px rgba(60, 64, 67, 0.3), 0 1px 3px 1px rgba(60, 64, 67, 0.15);\n",
              "    fill: var(--button-hover-fill-color);\n",
              "  }\n",
              "\n",
              "  .colab-df-quickchart-complete:disabled,\n",
              "  .colab-df-quickchart-complete:disabled:hover {\n",
              "    background-color: var(--disabled-bg-color);\n",
              "    fill: var(--disabled-fill-color);\n",
              "    box-shadow: none;\n",
              "  }\n",
              "\n",
              "  .colab-df-spinner {\n",
              "    border: 2px solid var(--fill-color);\n",
              "    border-color: transparent;\n",
              "    border-bottom-color: var(--fill-color);\n",
              "    animation:\n",
              "      spin 1s steps(1) infinite;\n",
              "  }\n",
              "\n",
              "  @keyframes spin {\n",
              "    0% {\n",
              "      border-color: transparent;\n",
              "      border-bottom-color: var(--fill-color);\n",
              "      border-left-color: var(--fill-color);\n",
              "    }\n",
              "    20% {\n",
              "      border-color: transparent;\n",
              "      border-left-color: var(--fill-color);\n",
              "      border-top-color: var(--fill-color);\n",
              "    }\n",
              "    30% {\n",
              "      border-color: transparent;\n",
              "      border-left-color: var(--fill-color);\n",
              "      border-top-color: var(--fill-color);\n",
              "      border-right-color: var(--fill-color);\n",
              "    }\n",
              "    40% {\n",
              "      border-color: transparent;\n",
              "      border-right-color: var(--fill-color);\n",
              "      border-top-color: var(--fill-color);\n",
              "    }\n",
              "    60% {\n",
              "      border-color: transparent;\n",
              "      border-right-color: var(--fill-color);\n",
              "    }\n",
              "    80% {\n",
              "      border-color: transparent;\n",
              "      border-right-color: var(--fill-color);\n",
              "      border-bottom-color: var(--fill-color);\n",
              "    }\n",
              "    90% {\n",
              "      border-color: transparent;\n",
              "      border-bottom-color: var(--fill-color);\n",
              "    }\n",
              "  }\n",
              "</style>\n",
              "\n",
              "  <script>\n",
              "    async function quickchart(key) {\n",
              "      const quickchartButtonEl =\n",
              "        document.querySelector('#' + key + ' button');\n",
              "      quickchartButtonEl.disabled = true;  // To prevent multiple clicks.\n",
              "      quickchartButtonEl.classList.add('colab-df-spinner');\n",
              "      try {\n",
              "        const charts = await google.colab.kernel.invokeFunction(\n",
              "            'suggestCharts', [key], {});\n",
              "      } catch (error) {\n",
              "        console.error('Error during call to suggestCharts:', error);\n",
              "      }\n",
              "      quickchartButtonEl.classList.remove('colab-df-spinner');\n",
              "      quickchartButtonEl.classList.add('colab-df-quickchart-complete');\n",
              "    }\n",
              "    (() => {\n",
              "      let quickchartButtonEl =\n",
              "        document.querySelector('#df-c694d906-6223-4ba3-9d35-7d4faa5b372e button');\n",
              "      quickchartButtonEl.style.display =\n",
              "        google.colab.kernel.accessAllowed ? 'block' : 'none';\n",
              "    })();\n",
              "  </script>\n",
              "</div>\n",
              "\n",
              "  <div id=\"id_9f48aedb-af59-44c9-9afe-03389f0dc8b0\">\n",
              "    <style>\n",
              "      .colab-df-generate {\n",
              "        background-color: #E8F0FE;\n",
              "        border: none;\n",
              "        border-radius: 50%;\n",
              "        cursor: pointer;\n",
              "        display: none;\n",
              "        fill: #1967D2;\n",
              "        height: 32px;\n",
              "        padding: 0 0 0 0;\n",
              "        width: 32px;\n",
              "      }\n",
              "\n",
              "      .colab-df-generate:hover {\n",
              "        background-color: #E2EBFA;\n",
              "        box-shadow: 0px 1px 2px rgba(60, 64, 67, 0.3), 0px 1px 3px 1px rgba(60, 64, 67, 0.15);\n",
              "        fill: #174EA6;\n",
              "      }\n",
              "\n",
              "      [theme=dark] .colab-df-generate {\n",
              "        background-color: #3B4455;\n",
              "        fill: #D2E3FC;\n",
              "      }\n",
              "\n",
              "      [theme=dark] .colab-df-generate:hover {\n",
              "        background-color: #434B5C;\n",
              "        box-shadow: 0px 1px 3px 1px rgba(0, 0, 0, 0.15);\n",
              "        filter: drop-shadow(0px 1px 2px rgba(0, 0, 0, 0.3));\n",
              "        fill: #FFFFFF;\n",
              "      }\n",
              "    </style>\n",
              "    <button class=\"colab-df-generate\" onclick=\"generateWithVariable('new_df')\"\n",
              "            title=\"Generate code using this dataframe.\"\n",
              "            style=\"display:none;\">\n",
              "\n",
              "  <svg xmlns=\"http://www.w3.org/2000/svg\" height=\"24px\"viewBox=\"0 0 24 24\"\n",
              "       width=\"24px\">\n",
              "    <path d=\"M7,19H8.4L18.45,9,17,7.55,7,17.6ZM5,21V16.75L18.45,3.32a2,2,0,0,1,2.83,0l1.4,1.43a1.91,1.91,0,0,1,.58,1.4,1.91,1.91,0,0,1-.58,1.4L9.25,21ZM18.45,9,17,7.55Zm-12,3A5.31,5.31,0,0,0,4.9,8.1,5.31,5.31,0,0,0,1,6.5,5.31,5.31,0,0,0,4.9,4.9,5.31,5.31,0,0,0,6.5,1,5.31,5.31,0,0,0,8.1,4.9,5.31,5.31,0,0,0,12,6.5,5.46,5.46,0,0,0,6.5,12Z\"/>\n",
              "  </svg>\n",
              "    </button>\n",
              "    <script>\n",
              "      (() => {\n",
              "      const buttonEl =\n",
              "        document.querySelector('#id_9f48aedb-af59-44c9-9afe-03389f0dc8b0 button.colab-df-generate');\n",
              "      buttonEl.style.display =\n",
              "        google.colab.kernel.accessAllowed ? 'block' : 'none';\n",
              "\n",
              "      buttonEl.onclick = () => {\n",
              "        google.colab.notebook.generateWithVariable('new_df');\n",
              "      }\n",
              "      })();\n",
              "    </script>\n",
              "  </div>\n",
              "\n",
              "    </div>\n",
              "  </div>\n"
            ],
            "application/vnd.google.colaboratory.intrinsic+json": {
              "type": "dataframe",
              "variable_name": "new_df"
            }
          },
          "metadata": {},
          "execution_count": 6
        }
      ]
    },
    {
      "cell_type": "markdown",
      "source": [
        "Now we can check if there are any missing values"
      ],
      "metadata": {
        "id": "MaJg6sxASz-s"
      }
    },
    {
      "cell_type": "code",
      "source": [
        "#Checking for any missing values in the data\n",
        "for col in new_df.columns:\n",
        "  print(col)\n",
        "  print(new_df[col].isna().sum())"
      ],
      "metadata": {
        "colab": {
          "base_uri": "https://localhost:8080/"
        },
        "id": "u-VpulpzNjsE",
        "outputId": "b9de4fae-36c4-454c-d30b-ff5016bcf3aa"
      },
      "execution_count": null,
      "outputs": [
        {
          "output_type": "stream",
          "name": "stdout",
          "text": [
            "State\n",
            "0\n",
            "Agency\n",
            "0\n",
            "Source\n",
            "0\n",
            "Solved\n",
            "0\n",
            "Year\n",
            "0\n",
            "Month\n",
            "0\n",
            "Homicide\n",
            "0\n",
            "Situation\n",
            "0\n",
            "VicAge\n",
            "0\n",
            "VicSex\n",
            "0\n",
            "VicRace\n",
            "0\n",
            "VicEthnic\n",
            "0\n",
            "OffAge\n",
            "0\n",
            "OffSex\n",
            "0\n",
            "OffRace\n",
            "0\n",
            "OffEthnic\n",
            "0\n",
            "Weapon\n",
            "0\n",
            "Relationship\n",
            "0\n",
            "Circumstance\n",
            "0\n",
            "VicCount\n",
            "0\n",
            "OffCount\n",
            "0\n"
          ]
        }
      ]
    },
    {
      "cell_type": "markdown",
      "source": [
        "No missing values!"
      ],
      "metadata": {
        "id": "11Bj_A68S23A"
      }
    },
    {
      "cell_type": "markdown",
      "source": [
        "Now we can start cleaning our columns\n",
        "The clean columns so far are (DELETE ONCE DONE, just for our reference)\n",
        "- State, Year, Source, Solved, Situation, VicCount, OffCount,"
      ],
      "metadata": {
        "id": "O-9XwlK4S4wR"
      }
    },
    {
      "cell_type": "code",
      "source": [
        "#subset the data based on year\n",
        "new_df = new_df[new_df['Year']>=2010]\n",
        "#check for weird values\n",
        "print(new_df['Year'].unique())"
      ],
      "metadata": {
        "colab": {
          "base_uri": "https://localhost:8080/"
        },
        "id": "laODWsnMOCej",
        "outputId": "4b08ed3c-59df-4f97-db2f-6c18c38ddf6e"
      },
      "execution_count": null,
      "outputs": [
        {
          "output_type": "stream",
          "name": "stdout",
          "text": [
            "[2010 2011 2012 2013 2014 2015 2016 2017 2018 2019 2020 2022 2023 2021]\n"
          ]
        }
      ]
    },
    {
      "cell_type": "code",
      "source": [
        "#check for weird values\n",
        "print(new_df['State'].unique())"
      ],
      "metadata": {
        "colab": {
          "base_uri": "https://localhost:8080/"
        },
        "id": "7lEUga-VSrMb",
        "outputId": "c0201662-7841-4cd8-b4a7-18ec9b6f98cf"
      },
      "execution_count": null,
      "outputs": [
        {
          "output_type": "stream",
          "name": "stdout",
          "text": [
            "['Alaska' 'Alabama' 'Arkansas' 'Arizona' 'California' 'Colorado'\n",
            " 'Connecticut' 'District of Columbia' 'Delaware' 'Florida' 'Georgia'\n",
            " 'Hawaii' 'Iowa' 'Idaho' 'Illinois' 'Indiana' 'Kansas' 'Kentucky'\n",
            " 'Louisiana' 'Massachusetts' 'Maryland' 'Maine' 'Michigan' 'Minnesota'\n",
            " 'Missouri' 'Mississippi' 'Montana' 'Nebraska' 'North Carolina'\n",
            " 'North Dakota' 'New Hampshire' 'New Jersey' 'New Mexico' 'Nevada'\n",
            " 'New York' 'Ohio' 'Oklahoma' 'Oregon' 'Pennsylvania' 'Rhodes Island'\n",
            " 'South Carolina' 'South Dakota' 'Tennessee' 'Texas' 'Utah' 'Virginia'\n",
            " 'Vermont' 'Washington' 'Wisconsin' 'West Virginia' 'Wyoming']\n"
          ]
        }
      ]
    },
    {
      "cell_type": "code",
      "source": [
        "#check for weird values\n",
        "print(new_df['Source'].unique())"
      ],
      "metadata": {
        "colab": {
          "base_uri": "https://localhost:8080/"
        },
        "id": "2LtRa8PaTDDC",
        "outputId": "1c0b2b5b-ab23-47d7-eee9-7b564e192f67"
      },
      "execution_count": null,
      "outputs": [
        {
          "output_type": "stream",
          "name": "stdout",
          "text": [
            "['FBI' 'MAP']\n"
          ]
        }
      ]
    },
    {
      "cell_type": "code",
      "source": [
        "#check for weird values\n",
        "print(new_df['Solved'].unique())"
      ],
      "metadata": {
        "colab": {
          "base_uri": "https://localhost:8080/"
        },
        "id": "smgcddc8TSAY",
        "outputId": "24245917-4358-44fb-b033-1f9d62f88116"
      },
      "execution_count": null,
      "outputs": [
        {
          "output_type": "stream",
          "name": "stdout",
          "text": [
            "['No' 'Yes']\n"
          ]
        }
      ]
    },
    {
      "cell_type": "code",
      "source": [
        "#check for weird values\n",
        "print(new_df['Situation'].unique())"
      ],
      "metadata": {
        "colab": {
          "base_uri": "https://localhost:8080/"
        },
        "id": "90PHbzyoTg72",
        "outputId": "78dd00e9-e8f0-4dd6-e667-0ef3b581b1fa"
      },
      "execution_count": null,
      "outputs": [
        {
          "output_type": "stream",
          "name": "stdout",
          "text": [
            "['Single victim/unknown offender(s)' 'Single victim/single offender'\n",
            " 'Single victim/multiple offenders' 'Multiple victims/single offender'\n",
            " 'Multiple victims/unknown offender(s)'\n",
            " 'Multiple victims/multiple offenders']\n"
          ]
        }
      ]
    },
    {
      "cell_type": "code",
      "source": [
        "#check for weird values\n",
        "print(new_df['VicCount'].unique())"
      ],
      "metadata": {
        "colab": {
          "base_uri": "https://localhost:8080/"
        },
        "id": "H__OqXR-Ttv3",
        "outputId": "6c1a0947-6cd1-4ab1-f2bd-fd2411783609"
      },
      "execution_count": null,
      "outputs": [
        {
          "output_type": "stream",
          "name": "stdout",
          "text": [
            "[ 0  1  2  3  4  9  5  6 10  7  8 11 21 20 52]\n"
          ]
        }
      ]
    },
    {
      "cell_type": "code",
      "source": [
        "#check for weird values\n",
        "print(new_df['OffCount'].unique())"
      ],
      "metadata": {
        "colab": {
          "base_uri": "https://localhost:8080/"
        },
        "id": "9JolRTbxT8GR",
        "outputId": "ac5ef6b0-f74e-4225-e033-7780c3c31805"
      },
      "execution_count": null,
      "outputs": [
        {
          "output_type": "stream",
          "name": "stdout",
          "text": [
            "[ 0  1  2  3  4  5  8  7  6  9 11 15 12 10 17 40 13 14 21]\n"
          ]
        }
      ]
    },
    {
      "cell_type": "code",
      "source": [
        "\n",
        "geolocator = Nominatim(user_agent=\"Project\")\n",
        "location = geolocator.geocode(\"Anchorage, Alaska\")\n",
        "print(location.longitude)\n",
        "print(location.latitude)"
      ],
      "metadata": {
        "id": "fbQlYSybA8ha",
        "outputId": "3ffcc523-b1fd-4cf5-eba9-6c2fb169d89e",
        "colab": {
          "base_uri": "https://localhost:8080/"
        }
      },
      "execution_count": 13,
      "outputs": [
        {
          "output_type": "stream",
          "name": "stdout",
          "text": [
            "-149.894852\n",
            "61.2163129\n"
          ]
        }
      ]
    }
  ]
}